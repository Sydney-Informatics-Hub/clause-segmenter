{
 "cells": [
  {
   "cell_type": "code",
   "id": "initial_id",
   "metadata": {},
   "source": [
    "from clause_segmenter import ClauseSegmenter\n",
    "import spacy\n",
    "from spacy import displacy\n",
    "from IPython.display import display, HTML\n",
    "\n",
    "segmenter = ClauseSegmenter()\n",
    "pipeline = segmenter.get_pipeline()\n",
    "doc = pipeline(input(\"Paste some text here and press 'enter': \\n\"))\n",
    "clause_spans = segmenter.get_clauses_as_spangroup(doc)\n",
    "\n",
    "display(HTML(\"<h2>Clauses</h2>\"))\n",
    "print('\\n'.join([sp.text for sp in clause_spans]))\n",
    "\n",
    "display(HTML(\"<h2>Dependency visualisation</h2><p>(one row per sentence)</p>\"))\n",
    "displacy.render(doc.sents, style=\"dep\", jupyter=True)\n",
    "\n",
    "display(HTML(\"<h2>Descriptions of tags present</h2>\"))\n",
    "for tok in doc:\n",
    "    print(f\"{tok}:\\n\\tPOS: {tok.pos_} - {spacy.explain(tok.pos_)}\\n\\tPOS (fine-grained): {tok.tag_} - {spacy.explain(tok.tag_)}\\n\\tDep: {tok.dep_} - {spacy.explain(tok.dep_)}\")"
   ],
   "outputs": [],
   "execution_count": null
  }
 ],
 "metadata": {
  "kernelspec": {
   "display_name": "clause-segmenter",
   "language": "python",
   "name": "clause-segmenter"
  },
  "language_info": {
   "codemirror_mode": {
    "name": "ipython",
    "version": 3
   },
   "file_extension": ".py",
   "mimetype": "text/x-python",
   "name": "python",
   "nbconvert_exporter": "python",
   "pygments_lexer": "ipython3",
   "version": "3.11.8"
  }
 },
 "nbformat": 4,
 "nbformat_minor": 5
}
